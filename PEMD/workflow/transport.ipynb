{
 "cells": [
  {
   "cell_type": "code",
   "execution_count": 1,
   "id": "8b8ceff1-94d5-4d4c-bbea-6871d569f1f9",
   "metadata": {},
   "outputs": [],
   "source": [
    "from PEMD.analysis import msd as msd_module, conductivity, transfer_number"
   ]
  },
  {
   "cell_type": "markdown",
   "id": "071279d8-38b0-47fb-8f51-435c79e021db",
   "metadata": {},
   "source": [
    "### 1. Prepare the input parameter "
   ]
  },
  {
   "cell_type": "code",
   "execution_count": 2,
   "id": "526ffcd9-02ba-4978-af26-ac73d7cd3add",
   "metadata": {},
   "outputs": [],
   "source": [
    "work_dir = '/home/tsd/polymer/MD/PEO/LI_EO/0.3/375/3_sample/MD_dir'\n",
    "\n",
    "data_tpr_file = 'nvt_prod.tpr'\n",
    "dcd_xtc_file = 'unwrapped_traj.xtc'\n",
    "select_cations = 'resname LIP'  \n",
    "select_anions = 'resname NSC'\n",
    "\n",
    "dt = 0.001\n",
    "dt_collection = 5e3\n",
    "run_start = int(1e6)\n",
    "nsteps = 4e8\n",
    "T = 375 # K\n",
    "interval_time = 5e3     # slope range 5ns"
   ]
  },
  {
   "cell_type": "markdown",
   "id": "0b4c7e3d-83c2-41fe-bf33-3758267dd4e2",
   "metadata": {},
   "source": [
    "### 2. Obtain the atom position"
   ]
  },
  {
   "cell_type": "code",
   "execution_count": 3,
   "id": "d75661a0-8409-49f7-b426-ff4c9f0e4cff",
   "metadata": {},
   "outputs": [],
   "source": [
    "# Calculate the positions of ions in a molecular dynamics simulation.\n",
    "\n",
    "(\n",
    "    run, \n",
    "    cations, \n",
    "    cations_list, \n",
    "    anions, \n",
    "    anions_list, \n",
    "    times,\n",
    ") = msd_module.get_position(\n",
    "    work_dir, \n",
    "    data_tpr_file, \n",
    "    dcd_xtc_file, \n",
    "    select_cations, \n",
    "    select_anions, \n",
    "    dt, \n",
    "    dt_collection, \n",
    "    run_start, \n",
    "    nsteps,\n",
    "    format='GROMACS',\n",
    ")"
   ]
  },
  {
   "cell_type": "code",
   "execution_count": 4,
   "id": "3547183b-2fe0-4c1f-8b88-b7485b227680",
   "metadata": {},
   "outputs": [
    {
     "data": {
      "application/vnd.jupyter.widget-view+json": {
       "model_id": "e222999b61ad4a2388085079a2400482",
       "version_major": 2,
       "version_minor": 0
      },
      "text/plain": [
       "  0%|          | 0/79801 [00:00<?, ?it/s]"
      ]
     },
     "metadata": {},
     "output_type": "display_data"
    }
   ],
   "source": [
    "# Generates arrays of position data for cations and anions relative to the center of mass of the system.\n",
    "\n",
    "(\n",
    "    cation_positions, \n",
    "    anion_positions,\n",
    ")= msd_module.create_position_arrays(\n",
    "    run, \n",
    "    cations_list, \n",
    "    anions_list, \n",
    "    times, \n",
    "    run_start, \n",
    "    dt_collection,\n",
    ")"
   ]
  },
  {
   "cell_type": "markdown",
   "id": "38ce1229-255d-4d9a-a56c-ccb14bc97231",
   "metadata": {},
   "source": [
    "### 3. Calculate the MSD and Self-Diffusion Coefficient"
   ]
  },
  {
   "cell_type": "code",
   "execution_count": null,
   "id": "25ee8266-ce95-49e3-ab49-65f344f736ad",
   "metadata": {},
   "outputs": [
    {
     "data": {
      "application/vnd.jupyter.widget-view+json": {
       "model_id": "6a936dff9aa8439e8019d98ccf76a1c3",
       "version_major": 2,
       "version_minor": 0
      },
      "text/plain": [
       "Calculating MSD:   0%|          | 0/300 [00:00<?, ?it/s]"
      ]
     },
     "metadata": {},
     "output_type": "display_data"
    },
    {
     "data": {
      "application/vnd.jupyter.widget-view+json": {
       "model_id": "9439980008724fd0abb0df683b50a54c",
       "version_major": 2,
       "version_minor": 0
      },
      "text/plain": [
       "Calculating MSD:   0%|          | 0/300 [00:00<?, ?it/s]"
      ]
     },
     "metadata": {},
     "output_type": "display_data"
    }
   ],
   "source": [
    "# Calculate the self-diffusion coefficient for cation.\n",
    "(\n",
    "    msd_cation, \n",
    "    D_cation, \n",
    "    time_range_cation,\n",
    ") = msd_module.compute_self_diffusion(\n",
    "    cation_positions, \n",
    "    times, \n",
    "    dt_collection, \n",
    "    dt, \n",
    "    interval_time,\n",
    ")\n",
    "\n",
    "# Calculate the self-diffusion coefficient for anion.\n",
    "(\n",
    "    msd_anion, \n",
    "    D_anion, \n",
    "    time_range_anion,\n",
    ") = msd_module.compute_self_diffusion(\n",
    "    anion_positions, \n",
    "    times, \n",
    "    dt_collection, \n",
    "    dt, \n",
    "    interval_time,\n",
    ")"
   ]
  },
  {
   "cell_type": "code",
   "execution_count": null,
   "id": "31711442-ceb9-42bc-922e-ff59cfc5434f",
   "metadata": {},
   "outputs": [],
   "source": [
    "D_cation"
   ]
  },
  {
   "cell_type": "code",
   "execution_count": null,
   "id": "45d86854-5f80-4ba8-98a3-4be4790e0d2f",
   "metadata": {},
   "outputs": [],
   "source": [
    "D_anion"
   ]
  },
  {
   "cell_type": "code",
   "execution_count": null,
   "id": "0981d583-f03f-4017-ac45-ac545445eacd",
   "metadata": {},
   "outputs": [],
   "source": [
    "# plotting log-log scale mean squared displacement (MSD) for Ion.\n",
    "import matplotlib.pyplot as plt\n",
    "\n",
    "font_list = {\"title\" : 20, \"label\":18, \"legend\":16, \"ticket\": 18, \"data\": 14} \n",
    "linewith = 1.5\n",
    "markersize = 5\n",
    "color_list = [\"#DF543F\", \"#2286A9\", \"#FBBF7C\", \"#3C3846\"]\n",
    "\n",
    "x_log = times[2000:6000]\n",
    "y_log = x_log/80\n",
    "x_log2 = times[50000:10000000000]\n",
    "y_log2 = x_log2/700\n",
    "fig, ax = plt.subplots()\n",
    "ax.plot(times[1:], msd_cation[1:], '-', linewidth=linewith, color = color_list[0], label=\"Li$^+$\")\n",
    "ax.plot(times[1:], msd_anion[1:], '-', linewidth=linewith, color = color_list[1], label=\"TFSI$^-$\")\n",
    "\n",
    "ax.plot(x_log, y_log, '--', linewidth=2, color=\"grey\")\n",
    "ax.plot(x_log2, y_log2, '--', linewidth=2, color=\"grey\")\n",
    "\n",
    "ax.legend(fontsize=font_list[\"legend\"], frameon=False)\n",
    "ax.set_xlabel(r'$t$ (ps)', fontsize=font_list[\"label\"])\n",
    "ax.set_ylabel(r'MSD ($\\AA^2$)', fontsize=font_list[\"label\"])\n",
    "ax.tick_params(axis='both', which='both', direction='in',labelsize=font_list[\"ticket\"])\n",
    "# ax.tick_params(axis='y', labelsize=font_list[\"ticket\"], direction='in', length=6, width=2)\n",
    "ax.set_xscale('log')\n",
    "ax.set_yscale('log')\n",
    "ax.set_xlim()\n",
    "ax.set_xlim(1e2,)\n",
    "# ax.set_ylim(1e0, 2e2)\n",
    "\n",
    "ax.grid(True, linestyle='--')\n",
    "fig.set_size_inches(5.5,4)\n",
    "plt.tight_layout()\n",
    "\n",
    "# Save the plot\n",
    "plt.savefig('msd.tif', bbox_inches='tight', dpi=300)\n",
    "plt.show()"
   ]
  },
  {
   "cell_type": "markdown",
   "id": "e75b7cad-11a7-4a20-8d2a-64886e55f3f3",
   "metadata": {},
   "source": [
    "### 4. Calculate the conductivity"
   ]
  },
  {
   "cell_type": "code",
   "execution_count": null,
   "id": "70482529-b9e0-48cc-90d3-e05b14add579",
   "metadata": {},
   "outputs": [],
   "source": [
    "(\n",
    "    msd_total, \n",
    "    cond, \n",
    "    time_range\n",
    ") = conductivity.compute_conductivity(\n",
    "    run, \n",
    "    run_start, \n",
    "    dt_collection, \n",
    "    cations_list, \n",
    "    anions_list, \n",
    "    times, \n",
    "    dt, \n",
    "    T,\n",
    "    interval_time\n",
    ")"
   ]
  },
  {
   "cell_type": "code",
   "execution_count": null,
   "id": "716d2dda-6257-4307-a1f1-710534ff3028",
   "metadata": {},
   "outputs": [],
   "source": [
    "cond"
   ]
  },
  {
   "cell_type": "code",
   "execution_count": null,
   "id": "a8c30e99-0033-4e09-af17-ee8e840adaac",
   "metadata": {},
   "outputs": [],
   "source": [
    "# plotting log-log scale mean squared displacement (MSD) for Ion.\n",
    "import matplotlib.pyplot as plt\n",
    "\n",
    "font_list = {\"title\" : 20, \"label\":18, \"legend\":16, \"ticket\": 18, \"data\": 14} \n",
    "linewith = 1.5\n",
    "markersize = 5\n",
    "color_list = [\"#DF543F\", \"#2286A9\", \"#FBBF7C\", \"#3C3846\"]\n",
    "\n",
    "#time = np.arange(run_start/100, run_end/100, 1/100)\n",
    "# time = np.arange(run_start*10, run_end*10, 10)   # timestep:10 ps, unit: ps\n",
    "x_log = times[800:3000]\n",
    "y_log = x_log/1\n",
    "# x_log2 = times[18000:40000]\n",
    "# y_log2 = x_log2/2800\n",
    "fig, ax = plt.subplots()\n",
    "ax.plot(times[1:], msd_total[1:], '-', linewidth=linewith, color = color_list[0], label=\"PEO/LiTFSI\")\n",
    "# ax.plot(times[1:], msd_anion[1:], '-', linewidth=linewith, color = color_list[1], label=\"TFSI$^-$\")\n",
    "\n",
    "ax.plot(x_log, y_log, '--', linewidth=2, color=\"grey\")\n",
    "# ax.plot(x_log2, y_log2, '--', linewidth=2, color=\"grey\")\n",
    "\n",
    "ax.legend(fontsize=font_list[\"legend\"], frameon=False)\n",
    "ax.set_xlabel(r'$t$ (ps)', fontsize=font_list[\"label\"])\n",
    "ax.set_ylabel(r'MSD ($\\AA^2$)', fontsize=font_list[\"label\"])\n",
    "ax.tick_params(axis='both', which='both', direction='in',labelsize=font_list[\"ticket\"])\n",
    "# ax.tick_params(axis='y', labelsize=font_list[\"ticket\"], direction='in', length=6, width=2)\n",
    "ax.set_xscale('log')\n",
    "ax.set_yscale('log')\n",
    "ax.set_xlim(100, 200000)\n",
    "# ax.set_ylim(1e0, 2e2)\n",
    "\n",
    "ax.grid(True, linestyle='--')\n",
    "fig.set_size_inches(5.5,4)\n",
    "plt.tight_layout()\n",
    "\n",
    "# Save the plot\n",
    "plt.savefig('msd.tif', bbox_inches='tight', dpi=300)\n",
    "plt.show()"
   ]
  },
  {
   "cell_type": "markdown",
   "id": "ed682e67-03ed-43e0-8c05-cae9023fb14b",
   "metadata": {},
   "source": [
    "### 5. calculate the transfer number"
   ]
  },
  {
   "cell_type": "code",
   "execution_count": null,
   "id": "8dd8b16c-ef6c-4513-8b88-446d9d417fcc",
   "metadata": {},
   "outputs": [],
   "source": [
    "t = transfer_number.compute_transfer_number(\n",
    "    run, \n",
    "    dt_collection, \n",
    "    cation_positions, \n",
    "    anion_positions, \n",
    "    times, \n",
    "    dt, \n",
    "    T, \n",
    "    interval_time, \n",
    "    cond\n",
    ")"
   ]
  },
  {
   "cell_type": "code",
   "execution_count": null,
   "id": "0f748fa8-7ae9-466e-9538-f89735821b14",
   "metadata": {},
   "outputs": [],
   "source": [
    "t"
   ]
  },
  {
   "cell_type": "code",
   "execution_count": null,
   "id": "1aed0876-6162-4e50-8c5e-bc315cc86ffb",
   "metadata": {},
   "outputs": [],
   "source": []
  }
 ],
 "metadata": {
  "kernelspec": {
   "display_name": "Python 3 (ipykernel)",
   "language": "python",
   "name": "python3"
  },
  "language_info": {
   "codemirror_mode": {
    "name": "ipython",
    "version": 3
   },
   "file_extension": ".py",
   "mimetype": "text/x-python",
   "name": "python",
   "nbconvert_exporter": "python",
   "pygments_lexer": "ipython3",
   "version": "3.10.14"
  }
 },
 "nbformat": 4,
 "nbformat_minor": 5
}
